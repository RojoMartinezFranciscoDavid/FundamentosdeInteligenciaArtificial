{
 "cells": [
  {
   "cell_type": "code",
   "execution_count": 1,
   "id": "ff164764-f524-4eb7-bdc5-4b643543c953",
   "metadata": {},
   "outputs": [],
   "source": [
    "import pandas as pd"
   ]
  },
  {
   "cell_type": "code",
   "execution_count": 3,
   "id": "4cb934fb-0ef4-4db2-b15d-ab738bc79da2",
   "metadata": {},
   "outputs": [],
   "source": [
    "import numpy as np"
   ]
  },
  {
   "cell_type": "code",
   "execution_count": 5,
   "id": "b3403ffb-d2fc-468e-a511-417b0a823c71",
   "metadata": {},
   "outputs": [],
   "source": [
    "import matplotlib.pyplot as plt"
   ]
  },
  {
   "cell_type": "code",
   "execution_count": 7,
   "id": "32c76200-900e-41e8-bfd2-c76581e368a1",
   "metadata": {},
   "outputs": [],
   "source": [
    "basedenombres = pd.read_csv('nombres.csv')"
   ]
  },
  {
   "cell_type": "code",
   "execution_count": 13,
   "id": "3c58ed35-63e4-4591-884b-9e54513786a9",
   "metadata": {},
   "outputs": [
    {
     "name": "stdout",
     "output_type": "stream",
     "text": [
      "<class 'pandas.core.frame.DataFrame'>\n",
      "RangeIndex: 5933561 entries, 0 to 5933560\n",
      "Data columns (total 5 columns):\n",
      " #   Column    Dtype \n",
      "---  ------    ----- \n",
      " 0   state     object\n",
      " 1   sex       object\n",
      " 2   year      int64 \n",
      " 3   name      object\n",
      " 4   quantity  int64 \n",
      "dtypes: int64(2), object(3)\n",
      "memory usage: 226.3+ MB\n"
     ]
    }
   ],
   "source": [
    "basedenombres.info()"
   ]
  },
  {
   "cell_type": "code",
   "execution_count": 15,
   "id": "24aca872-0054-4561-a6de-523a157b04d2",
   "metadata": {},
   "outputs": [
    {
     "data": {
      "text/html": [
       "<div>\n",
       "<style scoped>\n",
       "    .dataframe tbody tr th:only-of-type {\n",
       "        vertical-align: middle;\n",
       "    }\n",
       "\n",
       "    .dataframe tbody tr th {\n",
       "        vertical-align: top;\n",
       "    }\n",
       "\n",
       "    .dataframe thead th {\n",
       "        text-align: right;\n",
       "    }\n",
       "</style>\n",
       "<table border=\"1\" class=\"dataframe\">\n",
       "  <thead>\n",
       "    <tr style=\"text-align: right;\">\n",
       "      <th></th>\n",
       "      <th>state</th>\n",
       "      <th>sex</th>\n",
       "      <th>year</th>\n",
       "      <th>name</th>\n",
       "      <th>quantity</th>\n",
       "    </tr>\n",
       "  </thead>\n",
       "  <tbody>\n",
       "    <tr>\n",
       "      <th>0</th>\n",
       "      <td>MO</td>\n",
       "      <td>F</td>\n",
       "      <td>1910</td>\n",
       "      <td>Mary</td>\n",
       "      <td>611</td>\n",
       "    </tr>\n",
       "    <tr>\n",
       "      <th>1</th>\n",
       "      <td>MO</td>\n",
       "      <td>F</td>\n",
       "      <td>1910</td>\n",
       "      <td>Helen</td>\n",
       "      <td>313</td>\n",
       "    </tr>\n",
       "    <tr>\n",
       "      <th>2</th>\n",
       "      <td>MO</td>\n",
       "      <td>F</td>\n",
       "      <td>1910</td>\n",
       "      <td>Dorothy</td>\n",
       "      <td>270</td>\n",
       "    </tr>\n",
       "    <tr>\n",
       "      <th>3</th>\n",
       "      <td>MO</td>\n",
       "      <td>F</td>\n",
       "      <td>1910</td>\n",
       "      <td>Mildred</td>\n",
       "      <td>267</td>\n",
       "    </tr>\n",
       "    <tr>\n",
       "      <th>4</th>\n",
       "      <td>MO</td>\n",
       "      <td>F</td>\n",
       "      <td>1910</td>\n",
       "      <td>Ruth</td>\n",
       "      <td>237</td>\n",
       "    </tr>\n",
       "  </tbody>\n",
       "</table>\n",
       "</div>"
      ],
      "text/plain": [
       "  state sex  year     name  quantity\n",
       "0    MO   F  1910     Mary       611\n",
       "1    MO   F  1910    Helen       313\n",
       "2    MO   F  1910  Dorothy       270\n",
       "3    MO   F  1910  Mildred       267\n",
       "4    MO   F  1910     Ruth       237"
      ]
     },
     "execution_count": 15,
     "metadata": {},
     "output_type": "execute_result"
    }
   ],
   "source": [
    "basedenombres.head()"
   ]
  },
  {
   "cell_type": "code",
   "execution_count": 9,
   "id": "6a534553-fae9-4f82-b70c-deada23b7e88",
   "metadata": {},
   "outputs": [
    {
     "name": "stdout",
     "output_type": "stream",
     "text": [
      "<class 'pandas.core.frame.DataFrame'>\n",
      "RangeIndex: 5933561 entries, 0 to 5933560\n",
      "Data columns (total 5 columns):\n",
      " #   Column    Dtype \n",
      "---  ------    ----- \n",
      " 0   state     object\n",
      " 1   sex       object\n",
      " 2   year      int64 \n",
      " 3   name      object\n",
      " 4   quantity  int64 \n",
      "dtypes: int64(2), object(3)\n",
      "memory usage: 226.3+ MB\n"
     ]
    },
    {
     "data": {
      "text/plain": [
       "None"
      ]
     },
     "metadata": {},
     "output_type": "display_data"
    },
    {
     "data": {
      "text/html": [
       "<div>\n",
       "<style scoped>\n",
       "    .dataframe tbody tr th:only-of-type {\n",
       "        vertical-align: middle;\n",
       "    }\n",
       "\n",
       "    .dataframe tbody tr th {\n",
       "        vertical-align: top;\n",
       "    }\n",
       "\n",
       "    .dataframe thead th {\n",
       "        text-align: right;\n",
       "    }\n",
       "</style>\n",
       "<table border=\"1\" class=\"dataframe\">\n",
       "  <thead>\n",
       "    <tr style=\"text-align: right;\">\n",
       "      <th></th>\n",
       "      <th>state</th>\n",
       "      <th>sex</th>\n",
       "      <th>year</th>\n",
       "      <th>name</th>\n",
       "      <th>quantity</th>\n",
       "    </tr>\n",
       "  </thead>\n",
       "  <tbody>\n",
       "    <tr>\n",
       "      <th>0</th>\n",
       "      <td>MO</td>\n",
       "      <td>F</td>\n",
       "      <td>1910</td>\n",
       "      <td>Mary</td>\n",
       "      <td>611</td>\n",
       "    </tr>\n",
       "    <tr>\n",
       "      <th>1</th>\n",
       "      <td>MO</td>\n",
       "      <td>F</td>\n",
       "      <td>1910</td>\n",
       "      <td>Helen</td>\n",
       "      <td>313</td>\n",
       "    </tr>\n",
       "    <tr>\n",
       "      <th>2</th>\n",
       "      <td>MO</td>\n",
       "      <td>F</td>\n",
       "      <td>1910</td>\n",
       "      <td>Dorothy</td>\n",
       "      <td>270</td>\n",
       "    </tr>\n",
       "    <tr>\n",
       "      <th>3</th>\n",
       "      <td>MO</td>\n",
       "      <td>F</td>\n",
       "      <td>1910</td>\n",
       "      <td>Mildred</td>\n",
       "      <td>267</td>\n",
       "    </tr>\n",
       "    <tr>\n",
       "      <th>4</th>\n",
       "      <td>MO</td>\n",
       "      <td>F</td>\n",
       "      <td>1910</td>\n",
       "      <td>Ruth</td>\n",
       "      <td>237</td>\n",
       "    </tr>\n",
       "  </tbody>\n",
       "</table>\n",
       "</div>"
      ],
      "text/plain": [
       "  state sex  year     name  quantity\n",
       "0    MO   F  1910     Mary       611\n",
       "1    MO   F  1910    Helen       313\n",
       "2    MO   F  1910  Dorothy       270\n",
       "3    MO   F  1910  Mildred       267\n",
       "4    MO   F  1910     Ruth       237"
      ]
     },
     "metadata": {},
     "output_type": "display_data"
    }
   ],
   "source": [
    "display(basedenombres.info())\n",
    "display(basedenombres.head())"
   ]
  },
  {
   "cell_type": "code",
   "execution_count": 17,
   "id": "965e7e12-2638-4802-bb32-b02abd4d47cd",
   "metadata": {},
   "outputs": [],
   "source": [
    "nombreKristinF = basedenombres[(basedenombres['sex'] == 'F') & (basedenombres['name'] == 'Kristin')]"
   ]
  },
  {
   "cell_type": "code",
   "execution_count": 19,
   "id": "46e93076-dd51-4e18-ab12-c11e91d38c5b",
   "metadata": {},
   "outputs": [
    {
     "name": "stdout",
     "output_type": "stream",
     "text": [
      "Media: 66.3688555347092\n",
      "Moda: [5]\n",
      "Desviación estándar: 95.94215993859102\n"
     ]
    }
   ],
   "source": [
    "media = nombreKristinF['quantity'].mean()\n",
    "moda = nombreKristinF['quantity'].mode()\n",
    "desviacion = nombreKristinF['quantity'].std()\n",
    "print(\"Media:\", media)\n",
    "print(\"Moda:\", moda.values)\n",
    "print(\"Desviación estándar:\", desviacion)\n"
   ]
  },
  {
   "cell_type": "code",
   "execution_count": 21,
   "id": "2f3ea712-f684-4d86-8907-b8168907b844",
   "metadata": {},
   "outputs": [],
   "source": [
    "nombreKristinM = basedenombres[(basedenombres['sex'] == 'M') & (basedenombres['name'] == 'Kristin')]"
   ]
  },
  {
   "cell_type": "code",
   "execution_count": 23,
   "id": "d7e04197-77f3-4211-a879-8c5b0af8b5a2",
   "metadata": {},
   "outputs": [
    {
     "name": "stdout",
     "output_type": "stream",
     "text": [
      "Media: 6.298245614035087\n",
      "Moda: [5]\n",
      "Desviación estándar: 1.5694051680345755\n"
     ]
    }
   ],
   "source": [
    "media = nombreKristinM['quantity'].mean()\n",
    "moda = nombreKristinM['quantity'].mode()\n",
    "desviacion = nombreKristinM['quantity'].std()\n",
    "print(\"Media:\", media)\n",
    "print(\"Moda:\", moda.values)\n",
    "print(\"Desviación estándar:\", desviacion)"
   ]
  },
  {
   "cell_type": "code",
   "execution_count": 25,
   "id": "1c31d6d1-e74e-4916-8e18-a0c534211a1d",
   "metadata": {},
   "outputs": [
    {
     "name": "stdout",
     "output_type": "stream",
     "text": [
      "Total mujeres con el nombre de Kristin: 176873\n",
      "Total hombres con el nombre de Kristin: 359\n"
     ]
    }
   ],
   "source": [
    "total_mujeres = nombreKristinF['quantity'].sum()\n",
    "total_hombres = nombreKristinM['quantity'].sum()\n",
    "print(\"Total mujeres con el nombre de Kristin:\", total_mujeres)\n",
    "print(\"Total hombres con el nombre de Kristin:\", total_hombres)"
   ]
  },
  {
   "cell_type": "code",
   "execution_count": 35,
   "id": "b090fcd2-a12d-4616-92fb-488fce7944ee",
   "metadata": {},
   "outputs": [
    {
     "data": {
      "text/html": [
       "<div>\n",
       "<style scoped>\n",
       "    .dataframe tbody tr th:only-of-type {\n",
       "        vertical-align: middle;\n",
       "    }\n",
       "\n",
       "    .dataframe tbody tr th {\n",
       "        vertical-align: top;\n",
       "    }\n",
       "\n",
       "    .dataframe thead th {\n",
       "        text-align: right;\n",
       "    }\n",
       "</style>\n",
       "<table border=\"1\" class=\"dataframe\">\n",
       "  <thead>\n",
       "    <tr style=\"text-align: right;\">\n",
       "      <th></th>\n",
       "      <th>quantity</th>\n",
       "    </tr>\n",
       "    <tr>\n",
       "      <th>state</th>\n",
       "      <th></th>\n",
       "    </tr>\n",
       "  </thead>\n",
       "  <tbody>\n",
       "    <tr>\n",
       "      <th>CA</th>\n",
       "      <td>84</td>\n",
       "    </tr>\n",
       "    <tr>\n",
       "      <th>CO</th>\n",
       "      <td>5</td>\n",
       "    </tr>\n",
       "    <tr>\n",
       "      <th>DC</th>\n",
       "      <td>9</td>\n",
       "    </tr>\n",
       "    <tr>\n",
       "      <th>FL</th>\n",
       "      <td>5</td>\n",
       "    </tr>\n",
       "    <tr>\n",
       "      <th>IL</th>\n",
       "      <td>11</td>\n",
       "    </tr>\n",
       "    <tr>\n",
       "      <th>LA</th>\n",
       "      <td>10</td>\n",
       "    </tr>\n",
       "    <tr>\n",
       "      <th>MA</th>\n",
       "      <td>6</td>\n",
       "    </tr>\n",
       "    <tr>\n",
       "      <th>MI</th>\n",
       "      <td>12</td>\n",
       "    </tr>\n",
       "    <tr>\n",
       "      <th>NJ</th>\n",
       "      <td>6</td>\n",
       "    </tr>\n",
       "    <tr>\n",
       "      <th>NY</th>\n",
       "      <td>105</td>\n",
       "    </tr>\n",
       "    <tr>\n",
       "      <th>OH</th>\n",
       "      <td>11</td>\n",
       "    </tr>\n",
       "    <tr>\n",
       "      <th>PA</th>\n",
       "      <td>68</td>\n",
       "    </tr>\n",
       "    <tr>\n",
       "      <th>TX</th>\n",
       "      <td>27</td>\n",
       "    </tr>\n",
       "  </tbody>\n",
       "</table>\n",
       "</div>"
      ],
      "text/plain": [
       "       quantity\n",
       "state          \n",
       "CA           84\n",
       "CO            5\n",
       "DC            9\n",
       "FL            5\n",
       "IL           11\n",
       "LA           10\n",
       "MA            6\n",
       "MI           12\n",
       "NJ            6\n",
       "NY          105\n",
       "OH           11\n",
       "PA           68\n",
       "TX           27"
      ]
     },
     "execution_count": 35,
     "metadata": {},
     "output_type": "execute_result"
    }
   ],
   "source": [
    "KristinsF_x_estado = nombreKristinF.groupby('state').agg({'quantity': 'sum'})\n",
    "KristinsM_x_estado = nombreKristinM.groupby('state').agg({'quantity': 'sum'})\n",
    "KristinsF_x_estado\n",
    "KristinsM_x_estado"
   ]
  },
  {
   "cell_type": "code",
   "execution_count": 37,
   "id": "e3d73afb-9281-48fa-a993-9ae4f7a65b36",
   "metadata": {},
   "outputs": [
    {
     "data": {
      "image/png": "[encoded data removed]",
      "text/plain": [
       "<Figure size 1000x500 with 1 Axes>"
      ]
     },
     "metadata": {},
     "output_type": "display_data"
    }
   ],
   "source": [
    "plt.figure(figsize=(10,5))\n",
    "plt.bar(KristinsF_x_estado.index, KristinsF_x_estado['quantity'], label='Mujeres', alpha=0.7)\n",
    "plt.bar(KristinsM_x_estado.index, KristinsM_x_estado['quantity'], label='Hombres', alpha=0.7)\n",
    "plt.xlabel('Estado')\n",
    "plt.ylabel('Cantidad')\n",
    "plt.title('Total de personas con el nombre Kristin por estado')\n",
    "plt.legend()\n",
    "plt.xticks(rotation=90)\n",
    "plt.show()\n"
   ]
  }
 ],
 "metadata": {
  "kernelspec": {
   "display_name": "Python [conda env:base] *",
   "language": "python",
   "name": "conda-base-py"
  },
  "language_info": {
   "codemirror_mode": {
    "name": "ipython",
    "version": 3
   },
   "file_extension": ".py",
   "mimetype": "text/x-python",
   "name": "python",
   "nbconvert_exporter": "python",
   "pygments_lexer": "ipython3",
   "version": "3.12.7"
  }
 },
 "nbformat": 4,
 "nbformat_minor": 5
}
